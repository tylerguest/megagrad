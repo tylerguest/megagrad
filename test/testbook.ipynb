{
 "cells": [
  {
   "cell_type": "code",
   "execution_count": 1,
   "id": "60e10915",
   "metadata": {},
   "outputs": [],
   "source": [
    "import torch\n",
    "from nanograd.engine import Value\n",
    "from nanograd.tensor import Tensor"
   ]
  },
  {
   "cell_type": "code",
   "execution_count": 2,
   "id": "a202241d",
   "metadata": {},
   "outputs": [
    {
     "name": "stdout",
     "output_type": "stream",
     "text": [
      "-4.0\n",
      "-10.0\n",
      "40.0\n",
      "100.0\n",
      "-20.0\n",
      "-4.0\n",
      "-20.0\n",
      "tensor([-4.], dtype=torch.float64)\n",
      "tensor([-10.], dtype=torch.float64)\n",
      "tensor([40.], dtype=torch.float64)\n",
      "tensor([100.], dtype=torch.float64)\n",
      "torch.Size([1])\n",
      "torch.Size([1])\n",
      "torch.Size([1])\n"
     ]
    }
   ],
   "source": [
    "x = Value(-4.0)\n",
    "print(x.data)\n",
    "z = 2 * x + 2 + x\n",
    "print(z.data)\n",
    "q = z.relu() + z * x\n",
    "print(q.data)\n",
    "h = (z * z).relu()\n",
    "print(h.data)\n",
    "y = h + q + q * x\n",
    "print(y.data)\n",
    "y.backward()\n",
    "xmg, ymg = x, y\n",
    "print(xmg.data)\n",
    "print(ymg.data)\n",
    "\n",
    "x = torch.Tensor([-4.0]).double()\n",
    "x.requires_grad = True\n",
    "print(x.data)\n",
    "z = 2 * x + 2 + x\n",
    "print(z.data)\n",
    "q = z.relu() + z * x\n",
    "print(q.data)\n",
    "h = (z * z).relu()\n",
    "print(h.data)\n",
    "y = h + q + q * x\n",
    "print(y.shape)\n",
    "y.backward()\n",
    "xpt, ypt = x, y\n",
    "print(xpt.shape)\n",
    "print(ypt.shape)\n",
    "\n",
    "assert ymg.data == ypt.data.item()\n",
    "assert xmg.grad == xpt.grad.item()"
   ]
  },
  {
   "cell_type": "code",
   "execution_count": 3,
   "id": "1ec058e9",
   "metadata": {},
   "outputs": [],
   "source": [
    "x = Value(40)\n",
    "y = Value(2)\n",
    "z = x * y\n",
    "z += 10\n",
    "z.backward()"
   ]
  },
  {
   "cell_type": "code",
   "execution_count": 4,
   "id": "17c1c02e",
   "metadata": {},
   "outputs": [
    {
     "data": {
      "text/plain": [
       "90"
      ]
     },
     "execution_count": 4,
     "metadata": {},
     "output_type": "execute_result"
    }
   ],
   "source": [
    "z.data"
   ]
  },
  {
   "cell_type": "code",
   "execution_count": 6,
   "id": "35144df3",
   "metadata": {},
   "outputs": [
    {
     "name": "stdout",
     "output_type": "stream",
     "text": [
      "Tensor(33, shape=())\n"
     ]
    }
   ],
   "source": [
    "x = Tensor(3)\n",
    "y = Tensor(10)\n",
    "result = x * y + x\n",
    "result.backward()\n",
    "print(result)\n"
   ]
  },
  {
   "cell_type": "code",
   "execution_count": null,
   "id": "0752cb55",
   "metadata": {},
   "outputs": [],
   "source": []
  },
  {
   "cell_type": "code",
   "execution_count": null,
   "id": "d67a53d2",
   "metadata": {},
   "outputs": [],
   "source": []
  }
 ],
 "metadata": {
  "kernelspec": {
   "display_name": "venv",
   "language": "python",
   "name": "python3"
  },
  "language_info": {
   "codemirror_mode": {
    "name": "ipython",
    "version": 3
   },
   "file_extension": ".py",
   "mimetype": "text/x-python",
   "name": "python",
   "nbconvert_exporter": "python",
   "pygments_lexer": "ipython3",
   "version": "3.12.3"
  }
 },
 "nbformat": 4,
 "nbformat_minor": 5
}
