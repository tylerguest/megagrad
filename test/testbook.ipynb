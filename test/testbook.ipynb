{
 "cells": [
  {
   "cell_type": "code",
   "execution_count": 1,
   "id": "60e10915",
   "metadata": {},
   "outputs": [],
   "source": [
    "import torch\n",
    "from nanograd.engine import Value"
   ]
  },
  {
   "cell_type": "code",
   "execution_count": 12,
   "id": "a202241d",
   "metadata": {},
   "outputs": [
    {
     "name": "stdout",
     "output_type": "stream",
     "text": [
      "Value(data=-4.0, grad=0)\n",
      "Value(data=-10.0, grad=0)\n",
      "Value(data=40.0, grad=0)\n",
      "Value(data=100.0, grad=0)\n",
      "Value(data=-20.0, grad=0)\n",
      "Value(data=-4.0, grad=46.0)\n",
      "Value(data=-20.0, grad=1)\n",
      "tensor([-4.], dtype=torch.float64, requires_grad=True)\n",
      "tensor([-10.], dtype=torch.float64, grad_fn=<AddBackward0>)\n",
      "tensor([40.], dtype=torch.float64, grad_fn=<AddBackward0>)\n",
      "tensor([100.], dtype=torch.float64, grad_fn=<ReluBackward0>)\n",
      "torch.Size([1])\n",
      "torch.Size([1])\n",
      "torch.Size([1])\n"
     ]
    }
   ],
   "source": [
    "x = Value(-4.0)\n",
    "print(x)\n",
    "z = 2 * x + 2 + x\n",
    "print(z)\n",
    "q = z.relu() + z * x\n",
    "print(q)\n",
    "h = (z * z).relu()\n",
    "print(h)\n",
    "y = h + q + q * x\n",
    "print(y)\n",
    "y.backward()\n",
    "xmg, ymg = x, y\n",
    "print(xmg)\n",
    "print(ymg)\n",
    "\n",
    "x = torch.Tensor([-4.0]).double()\n",
    "x.requires_grad = True\n",
    "print(x)\n",
    "z = 2 * x + 2 + x\n",
    "print(z)\n",
    "q = z.relu() + z * x\n",
    "print(q)\n",
    "h = (z * z).relu()\n",
    "print(h)\n",
    "y = h + q + q * x\n",
    "print(y.shape)\n",
    "y.backward()\n",
    "xpt, ypt = x, y\n",
    "print(xpt.shape)\n",
    "print(ypt.shape)\n",
    "\n",
    "assert ymg.data == ypt.data.item()\n",
    "assert xmg.grad == xpt.grad.item()"
   ]
  },
  {
   "cell_type": "code",
   "execution_count": null,
   "id": "1ec058e9",
   "metadata": {},
   "outputs": [],
   "source": []
  }
 ],
 "metadata": {
  "kernelspec": {
   "display_name": "venv",
   "language": "python",
   "name": "python3"
  },
  "language_info": {
   "codemirror_mode": {
    "name": "ipython",
    "version": 3
   },
   "file_extension": ".py",
   "mimetype": "text/x-python",
   "name": "python",
   "nbconvert_exporter": "python",
   "pygments_lexer": "ipython3",
   "version": "3.12.3"
  }
 },
 "nbformat": 4,
 "nbformat_minor": 5
}
